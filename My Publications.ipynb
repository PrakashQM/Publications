{
 "cells": [
  {
   "cell_type": "markdown",
   "metadata": {},
   "source": [
    "# Research performed at University of Florida as a PhD student.\n",
    "        \n",
    "        "
   ]
  },
  {
   "cell_type": "markdown",
   "metadata": {},
   "source": [
    "---"
   ]
  },
  {
   "cell_type": "markdown",
   "metadata": {},
   "source": [
    "### [Increasing the applicability of DFT I: Non-variational correlation corrections from Hartree–Fock DFT for predicting transition states.](https://doi.org/10.1016/j.cplett.2011.12.017)\n",
    "\n",
    "<pre>\n",
    "Prakash Verma, Ajith Perera, Rodney J. Bartlett, \n",
    "Quantum Theory Project, University of Florida, Gainesville, Florida 32611, USA\n",
    "</pre>\n",
    "\n",
    "Abstract:\n",
    "\n",
    "<pre>\n",
    "Hartree–Fock DFT (HF-DFT) uses the self-interaction error free HF density and DFT functional. Using HF-DFT for molecular structure determination requires a non-variational analytical gradient scheme. This has been developed and applied for the calculation of transition state geometries and barrier heights for chemical reactions. The barrier heights obtained show average absolute errors (AAE) of 2–3 kcal/mol while ΛCCSD(T) show an AAE of 1.1–1.4 kcal/mol. Standard variational DFT with the same functional has AAE’s of 6.3–8.3 kcal/mol while the HF errors are about 12 kcal/mol.\n",
    "</pre>"
   ]
  },
  {
   "cell_type": "markdown",
   "metadata": {},
   "source": [
    "Summary :\n",
    "\n",
    "   * ***Computational tool*** is developed to obtain activation energies of chemical reactions. Which has low computation cost and is highly accurate (2–3 kcal/mol). \n",
    "   * ***Theoretical Framework*** is devised to obtain analytical gradient of non-varitional DFT.\n",
    "   * ***Questioned traditional viewpoint*** and showed that Kohn-Sham density is worse than Hartree-Fock density.\n",
    "   "
   ]
  },
  {
   "cell_type": "markdown",
   "metadata": {},
   "source": [
    "More information can be found at https://doi.org/10.1016/j.cplett.2011.12.017\n",
    "\n",
    "Paper was selected as Editor choice paper for Chemical Physics Letters Volume 524 (see http://www.sciencedirect.com/science/journal/00092614/524 )"
   ]
  },
  {
   "cell_type": "markdown",
   "metadata": {},
   "source": [
    "----"
   ]
  },
  {
   "cell_type": "markdown",
   "metadata": {
    "collapsed": true
   },
   "source": [
    "### [Increasing the applicability of density functional theory. II. Correlation potentials from the random phase approximation and beyond.](http://dx.doi.org/10.1063/1.3678180)\n",
    "<pre>\n",
    "Prakash Verma and Rodney J. Bartlett\n",
    "Quantum Theory Project, University of Florida, Gainesville, Florida 32611, USA\n",
    "</pre>\n",
    "\n",
    "Abstract:\n",
    "\n",
    "    Density functional theory (DFT) results are mistrusted at times due to the presence of an unknown exchange correlation functional, with no practical way to guarantee convergence to the right answer. The use of a known exchange correlation functional based on wave-function theory helps to alleviate such mistrust. The exchange correlation functionals can be written exactly in terms of the density-density response function using the adiabatic-connection and fluctuation-dissipation framework. The random phase approximation (RPA) is the simplest approximation for the density-density response function. Since the correlation functional obtained from RPA is equivalent to the direct ring coupled cluster doubles (ring-CCD) correlation functional, meaning only Coulomb interactions are included, one can bracket RPA between many body perturbation theory (MBPT)-2 and CCD with the latter having all ring, ladder, and exchange contributions. Using an optimized effective potential strategy, we obtain correlation potentials corresponding to MBPT-2, RPA (ring-CCD), linear-CCD, and CCD. Using the suitable choice of the unperturbed Hamiltonian, Kohn-Sham self-consistent calculations are performed. The spatial behavior of the resulting potentials, total energies, and the HOMO eigenvalues are compared with the exact values for spherical atoms. Further, we demonstrate that the self-consistent eigenvalues obtained from these consistent potentials used in ab initio dft approximate all principal ionization potentials as demanded by ionization potential theorem."
   ]
  },
  {
   "cell_type": "markdown",
   "metadata": {},
   "source": [
    "More information can be found at http://dx.doi.org/10.1063/1.3678180"
   ]
  },
  {
   "cell_type": "markdown",
   "metadata": {},
   "source": [
    "-----"
   ]
  },
  {
   "cell_type": "markdown",
   "metadata": {},
   "source": [
    "### [ Increasing the applicability of density functional theory. III. Do consistent Kohn-Sham density functional methods exist? ](http://dx.doi.org/10.1063/1.4755818)\n",
    "\n",
    "<pre>\n",
    "Prakash Verma and Rodney J. Bartlett\n",
    "Quantum Theory Project, University of Florida, Gainesville, Florida 32611, USA\n",
    "</pre>\n",
    "\n",
    "Abstract:\n",
    "\n",
    "    The concept of a “consistent,” Kohn-Sham (KS) density functional theory (DFT) is discussed, where the functional is able to provide good total energies and its self-consistent potential is such that the KS eigenvalues correspond to accurate approximations to the principal ionization potentials for the molecule. Today, none of the vast number of DFT approximations show this property. The one exception is the ab initio dft method built upon the optimized effective potential strategy for exchange and correlation. This qualifies as a DFT method because it represents the correlated density as a single determinant and by imposing that condition, generates local exchange and correlation operators which are used in self-consistent solutions of the orbitals and eigenvalues. Such a “consistent” DFT shares many of the properties of the Dyson equation, but without its frequency dependence and associated complications. The relationship between ab initio dft based on MBPT2 functional and GW method is discussed. Ab initio dft provides a self-consistent, frequency independent, effective independent particle alternative with a local correlation potential."
   ]
  },
  {
   "cell_type": "markdown",
   "metadata": {},
   "source": [
    "More information can be found at http://dx.doi.org/10.1063/1.4755818"
   ]
  },
  {
   "cell_type": "markdown",
   "metadata": {},
   "source": [
    "----"
   ]
  },
  {
   "cell_type": "markdown",
   "metadata": {},
   "source": [
    "### [Increasing the applicability of density functional theory. IV. Consequences of ionization-potential improved exchange-correlation potentials](http://dx.doi.org/10.1063/1.4871409)\n",
    "\n",
    "<pre>\n",
    "Prakash Verma and Rodney J. Bartlett\n",
    "Quantum Theory Project, University of Florida, Gainesville, Florida 32611, USA\n",
    "</pre>\n",
    "\n",
    "Abstract: \n",
    "\n",
    "    This paper's objective is to create a “consistent” mean-field based Kohn-Sham (KS) density functional theory (DFT) meaning the functional should not only provide good total energy properties, but also the corresponding KS eigenvalues should be accurate approximations to the vertical ionization potentials (VIPs) of the molecule, as the latter condition attests to the viability of the exchange-correlation potential (VXC). None of the prominently used DFT approaches show these properties: the optimized effective potential VXC based ab initio dft does. A local, range-separated hybrid potential cam-QTP-00 is introduced as the basis for a “consistent” KS DFT approach. The computed VIPs as the negative of KS eigenvalue have a mean absolute error of 0.8 eV for an extensive set of molecule's electron ionizations, including the core. Barrier heights, equilibrium geometries, and magnetic properties obtained from the potential are in good agreement with experiment. A similar accuracy with less computational efforts can be achieved by using a non-variational global hybrid variant of the QTP-00 approach."
   ]
  },
  {
   "cell_type": "markdown",
   "metadata": {},
   "source": [
    "More information can be found at http://dx.doi.org/10.1063/1.4871409"
   ]
  },
  {
   "cell_type": "markdown",
   "metadata": {},
   "source": [
    "----"
   ]
  },
  {
   "cell_type": "markdown",
   "metadata": {},
   "source": [
    "### [Increasing the applicability of density functional theory. V. X-ray absorption spectra with ionization potential corrected exchange and correlation potentials](http://dx.doi.org/10.1063/1.4955194)\n",
    "\n",
    "<pre>\n",
    "Prakash Verma and Rodney J. Bartlett\n",
    "Quantum Theory Project, University of Florida, Gainesville, Florida 32611, USA\n",
    "</pre>\n",
    "\n",
    "Abstract: \n",
    "\n",
    "    Core excitation energies are computed with time-dependent density functional theory (TD-DFT) using the ionization energy corrected exchange and correlation potential QTP(0,0). QTP(0,0) provides C, N, and O K-edge spectra to about an electron volt. A mean absolute error (MAE) of 0.77 and a maximum error of 2.6 eV is observed for QTP(0,0) for many small molecules. TD-DFT based on QTP (0,0) is then used to describe the core-excitation spectra of the 22 amino acids. TD-DFT with conventional functionals greatly underestimates core excitation energies, largely due to the significant error in the Kohn-Sham occupied eigenvalues. To the contrary, the ionization energy corrected potential, QTP(0,0), provides excellent approximations (MAE of 0.53 eV) for core ionization energies as eigenvalues of the Kohn-Sham equations. As a consequence, core excitation energies are accurately described with QTP(0,0), as are the core ionization energies important in X-ray photoionization spectra or electron spectroscopy for chemical analysis."
   ]
  },
  {
   "cell_type": "markdown",
   "metadata": {},
   "source": [
    "----"
   ]
  },
  {
   "cell_type": "markdown",
   "metadata": {},
   "source": [
    "### [Ionization potential optimized double-hybrid density functional approximations](http://dx.doi.org/10.1063/1.4962354)\n",
    "\n",
    "<pre>\n",
    "Johannes T. Margrafa, Prakash Verma and Rodney J. Bartlett\n",
    "Quantum Theory Project, University of Florida, Gainesville, Florida 32611, USA\n",
    "</pre>\n",
    "\n",
    "Abstract: \n",
    "\n",
    "    Double-hybrid density functional approximations (DH-DFAs) provide an accurate description of the electronic structure of molecules by semiempirically mixing density functional and wavefunction theory. In this paper, we investigate the properties of the potential used in such approximations. By using the optimized effective potential approach, the consistent Kohn-Sham (KS) potential for a double-hybrid functional (including the second-order perturbational contribution) can be generated. This potential is shown to provide an improved description of orbital energies as vertical ionization potentials (IPs), relative to the perturbation-free KS potential typically used. Based on this observation, we suggest that DH-DFAs should be constructed in such a way that the potential provides accurate orbital energies. As a proof of principle, the B2-PLYP functional is reparameterized to obtain the IP-optimized B2IP-PLYP functional, using a small set of vertical IPs and atomization energies as reference data. This functional is shown to outperform B2-PLYP in a wide range of benchmarks and is en par with the related B2GP-PLYP. In particular, it is shown to be the most reliable choice in electronically difficult and multireference cases."
   ]
  },
  {
   "cell_type": "markdown",
   "metadata": {},
   "source": [
    "----"
   ]
  },
  {
   "cell_type": "markdown",
   "metadata": {},
   "source": [
    "### [Relativistic density functional calculations of hyperfine coupling with variational versus perturbational treatment of spin–orbit coupling.](http://pubs.acs.org/doi/abs/10.1021/ct301114z)\n",
    "\n",
    "<pre>\n",
    "Prakash Verma and Jochen Autschbach\n",
    "Department of Chemistry, University at Buffalo, State University of New York, Buffalo, New York 14260-3000\n",
    "</pre>\n",
    "\n",
    "Abstract: \n",
    "\n",
    "\n",
    "    Different approaches are compared for relativistic density functional theory (DFT) and Hartree–Fock (HF) calculations of electron–nucleus hyperfine coupling (HFC) in molecules with light atoms, in transition metal complexes, and in selected actinide halide complexes with a formal metal 5f1 configuration. The comparison includes hybrid density functionals with range-separated exchange. Within the variationally stable zeroth-order regular approximation (ZORA) relativistic framework, the HFC is obtained (i) with a linear response (LR) method where spin–orbit (SO) coupling is treated as a linear perturbation, (ii) with a spin-polarized approach closely related to a DFT method for calculating magnetic anisotropy (MA) previously devised by van Wüllen et al. where SO coupling is included variationally, (iii) with a quasi-restricted variational SO method previously devised by van Lenthe, van der Avoird, and Wormer (LWA). The MA and LWA approaches for HFC calculations were implemented in the open-source NWChem quantum chemistry package as part of this study. The methodology extends recent implementations for calculations of electronic g-factors (J. Chem. Theor. Comput.2013, 9, 1052). The impact of electron correlation (DFT vs HF) and DFT delocalization errors, the effects of spin-polarization, the importance of treating spin–orbit coupling beyond first-order, and the magnitude of finite-nucleus effects, are investigated. Similar to calculations of g-factors, the MA approach in conjunction with hybrid functionals performs reasonably well for theoretical predictions of HFC in a wide range of scenarios."
   ]
  },
  {
   "cell_type": "markdown",
   "metadata": {},
   "source": [
    "----"
   ]
  },
  {
   "cell_type": "markdown",
   "metadata": {},
   "source": [
    "### [Variational versus Perturbational Treatment of Spin–Orbit Coupling in Relativistic Density Functional Calculations of Electronic g Factors: Effects from Spin-Polarization and Exact Exchange](http://pubs.acs.org/doi/abs/10.1021/ct3009864)\n",
    "\n",
    "<pre>\n",
    "Prakash Verma and Jochen Autschbach\n",
    "Department of Chemistry, University at Buffalo, State University of New York, Buffalo, New York 14260-3000\n",
    "</pre>\n",
    "\n",
    "Abstract: \n",
    "\n",
    "        Different approaches are compared for relativistic calculations of electronic g factors of molecules with light atoms, transition metal complexes, and selected complexes with actinides, using density functional theory (DFT) and Hartree–Fock (HF) theory. The comparison includes functionals with range-separated exchange. Within the variationally stable zeroth-order regular approximation (ZORA) relativistic framework, g factors are obtained with a linear response (LR) method where spin–orbit (SO) coupling is treated as a linear perturbation, a spin-polarized approach based on magnetic anisotropy (MA) that includes SO coupling variationally, and a quasi-restricted variational SO method previously devised by van Lenthe, van der Avoird, and Wormer (LWA). The MA and LWA approaches were implemented in the open-source NWChem quantum chemistry package. We address the importance of electron correlation (DFT vs HF), the importance of including spin polarization in the g tensor methodology, the question of whether the use of nonrelativistic spin density functionals is adequate for such calculations, and the importance of treating spin–orbit coupling beyond first-order. For selected systems, the extent of the DFT delocalization error is explicitly investigated via calculations of the energy as a function of fractional electron numbers. For a test set of small molecules with light main group atoms, all levels of calculation perform adequately as long as there is no energetic near-degeneracy among occupied and unoccupied orbitals. The interplay between different factors determining the accuracy of calculated g factors becomes more complex for systems with heavy elements such as third row transition metals and actinides. The MA approach is shown to perform acceptably well for a wide range of scenarios."
   ]
  },
  {
   "cell_type": "markdown",
   "metadata": {},
   "source": [
    "----"
   ]
  },
  {
   "cell_type": "markdown",
   "metadata": {},
   "source": [
    "### [Massively parallel implementations of coupled-cluster methods for electron spin resonance spectra. I. Isotropic hyperfine coupling tensors in large radicals](http://dx.doi.org/10.1063/1.4827298)\n",
    "\n",
    "<pre>\n",
    "Prakash Verma, Ajith Perera1, and Jorge A. Morales, \n",
    "Department of Chemistry and Biochemistry, Texas Tech University, P.O. Box 41061, Lubbock, Texas 79409-1061, USA\n",
    "Department of Chemistry, Quantum Theory Project, University of Florida, Gainesville, Florida 32611, USA\n",
    "</pre>\n",
    "\n",
    "Abstract: \n",
    "\n",
    "\n",
    "        Coupled cluster (CC) methods provide highly accurate predictions of molecular properties, but their high computational cost has precluded their routine application to large systems. Fortunately, recent computational developments in the ACES III program by the Bartlett group [the OED/ERD atomic integral package, the super instruction processor, and the super instruction architecture language] permit overcoming that limitation by providing a framework for massively parallel CC implementations. In that scheme, we are further extending those parallel CC efforts to systematically predict the three main electron spin resonance (ESR) tensors (A-, g-, and D-tensors) to be reported in a series of papers. In this paper inaugurating that series, we report our new ACES III parallel capabilities that calculate isotropic hyperfine coupling constants in 38 neutral, cationic, and anionic radicals that include the 11B, 17O, 9Be, 19F, 1H, 13C, 35Cl, 33S,14N, 31P, and 67Zn nuclei. Present parallel calculations are conducted at the Hartree-Fock (HF), second-order many-body perturbation theory [MBPT(2)], CC singles and doubles (CCSD), and CCSD with perturbative triples [CCSD(T)] levels using Roos augmented double- and triple-zeta atomic natural orbitals basis sets. HF results consistently overestimate isotropic hyperfine coupling constants. However, inclusion of electron correlation effects in the simplest way via MBPT(2) provides significant improvements in the predictions, but not without occasional failures. In contrast, CCSD results are consistently in very good agreement with experimental results. Inclusion of perturbative triples to CCSD via CCSD(T) leads to small improvements in the predictions, which might not compensate for the extra computational effort at a non-iterative N7-scaling in CCSD(T). The importance of these accurate computations of isotropic hyperfine coupling constants to elucidate experimental ESR spectra, to interpret spin-density distributions, and to characterize and identify radical species is illustrated with our results from large organic radicals. Those include species relevant for organic chemistry, petroleum industry, and biochemistry, such as the cyclo-hexyl, 1-adamatyl, and Zn-porphycene anion radicals, inter alia.\n"
   ]
  },
  {
   "cell_type": "markdown",
   "metadata": {},
   "source": [
    "---"
   ]
  },
  {
   "cell_type": "markdown",
   "metadata": {},
   "source": [
    "### [New massively parallel linear-response coupled-cluster module in ACES III: application to static polarisabilities of closed-shell molecules and oligomers and of open-shell radicals](http://www.tandfonline.com/doi/abs/10.1080/00268976.2015.1126367)\n",
    "\n",
    "<pre>\n",
    "Prakash Verma, Ajith Perera1, and Jorge A. Morales, \n",
    "Department of Chemistry and Biochemistry, Texas Tech University, P.O. Box 41061, Lubbock, Texas 79409-1061, USA\n",
    "Department of Chemistry, Quantum Theory Project, University of Florida, Gainesville, Florida 32611, USA\n",
    "</pre>\n",
    "\n",
    "Abstract: \n",
    "\n",
    "        Stemming from our implementation of parallel coupled-cluster (CC) capabilities for electron spin resonance properties [J. Chem. Phys. 139, 174103 (2013)], we present a new massively parallel linear response CC module within ACES III. Unlike alternative parallel CC modules, this general purpose module evaluates any type of first- and second-order CC properties of both closed- and open-shell molecules employing restricted, unrestricted and restricted-open-shell Hartree–Fock (HF) references. We demonstrate the accuracy and usefulness of this module through the calculation of static polarisabilities of large molecules. Closed-shell calculations are performed at the following levels: second-order many-body perturbation theory [MBPT(2)], CC with single- and double-excitations (CCSD), coupled-perturbed HF and density functional theory (DFT), and open-shell calculations at the unrestricted CCSD (UCSSD) one. Applications involve eight closed-shell organic-chemistry molecules (Set I), the first four members of the closed-shell thiophene oligomer series (Set II), and five open-shell radicals (Set III). In Set I, all calculated average polarisabilities agree reasonably well with experimental data. In Set II, all calculated average polarisabilities vs. the number of monomers show comparable values and saturation patterns and demonstrate that experimental polarisabilities may be inaccurate. In Set III, UCCSD perpendicular polarisabilities show a reasonable agreement with previous UCCSD(T) and restricted-open-shell-MBPT(2) values.\n"
   ]
  },
  {
   "cell_type": "markdown",
   "metadata": {},
   "source": [
    "----"
   ]
  },
  {
   "cell_type": "markdown",
   "metadata": {},
   "source": [
    "### [Benchmark coupled-cluster g-tensor calculations with full inclusion of the two-particle spin-orbit contributions]()\n",
    "\n",
    "<pre>\n",
    "Ajith Perera1,2,a),   Jürgen Gauss3,   Prakash Verma1, and Jorge A. Morales1,a)Hide Affiliations\n",
    "1Department of Chemistry and Biochemistry, Texas Tech University, P.O. Box 41061, Lubbock, Texas 79409-1061, USA\n",
    "2Department of Chemistry, Quantum Theory Project, University of Florida, Gainesville, Florida 32611, USA\n",
    "3Institut für Physikalische Chemie, Universität Mainz, D-55099 Mainz, Germany\n",
    "</pre>\n",
    "\n",
    "Abstract :\n",
    "\n",
    "           We present a parallel implementation to compute electron spin resonance g-tensors at the coupled-cluster singles and doubles (CCSD) level which employs the ACES III domain-specific software tools for scalable parallel programming, i.e., the super instruction architecture language and processor (SIAL and SIP), respectively. A unique feature of the present implementation is the exact (not approximated) inclusion of the five one- and two-particle contributions to the g-tensor [i.e., the mass correction, one- and two-particle paramagnetic spin-orbit, and one- and two-particle diamagnetic spin-orbit terms]. Like in a previous implementation with effective one-electron operators [J. Gauss et al., J. Phys. Chem. A 113, 11541–11549 (2009)], our implementation utilizes analytic CC second derivatives and, therefore, classifies as a true CC linear-response treatment. Therefore, our implementation can unambiguously appraise the accuracy of less costly effective one-particle schemes and provide a rationale for their widespread use. We have considered a large selection of radicals used previously for benchmarking purposes including those studied in earlier work and conclude that at the CCSD level, the effective one-particle scheme satisfactorily captures the two-particle effects less costly than the rigorous two-particle scheme. With respect to the performance of density functional theory (DFT), we note that results obtained with the B3LYP functional exhibit the best agreement with our CCSD results. However, in general, the CCSD results agree better with the experimental data than the best DFT/B3LYP results, although in most cases within the rather large experimental error bars."
   ]
  },
  {
   "cell_type": "markdown",
   "metadata": {},
   "source": [
    "----"
   ]
  },
  {
   "cell_type": "markdown",
   "metadata": {},
   "source": [
    "### [Predicting Near Edge X-ray Absorption Spectra with the Spin-Free Exact-Two-Component Hamiltonian and Orthogonality Constrained Density Functional Theory](http://pubs.acs.org/doi/abs/10.1021/acs.jctc.5b00817)\n",
    "\n",
    "<pre>\n",
    "Prakash Verma, Wallace D. Derricotte, and Francesco A. Evangelista\n",
    "Department of Chemistry and Cherry L. Emerson Center for Scientific Computation, Emory University, Atlanta, Georgia 30322, United States\n",
    "</pre>\n",
    "\n",
    "Abstract :\n",
    "\n",
    "        Orthogonality constrained density functional theory (OCDFT) provides near-edge X-ray absorption (NEXAS) spectra of first-row elements within one electronvolt from experimental values. However, with increasing atomic number, scalar relativistic effects become the dominant source of error in a nonrelativistic OCDFT treatment of core–valence excitations. In this work we report a novel implementation of the spin-free exact-two-component (X2C) one-electron treatment of scalar relativistic effects and its combination with a recently developed OCDFT approach to compute a manifold of core–valence excited states. The inclusion of scalar relativistic effects in OCDFT reduces the mean absolute error of second-row elements core–valence excitations from 10.3 to 2.3 eV. For all the excitations considered, the results from X2C calculations are also found to be in excellent agreement with those from low-order spin-free Douglas–Kroll–Hess relativistic Hamiltonians. The X2C-OCDFT NEXAS spectra of three organotitanium complexes (TiCl4, TiCpCl3, TiCp2Cl2) are in very good agreement with unshifted experimental results and show a maximum absolute error of 5–6 eV. In addition, a decomposition of the total transition dipole moment into partial atomic contributions is proposed and applied to analyze the nature of the Ti pre-edge transitions in the three organotitanium complexes."
   ]
  },
  {
   "cell_type": "code",
   "execution_count": null,
   "metadata": {
    "collapsed": true
   },
   "outputs": [],
   "source": []
  }
 ],
 "metadata": {
  "kernelspec": {
   "display_name": "Python 3",
   "language": "python",
   "name": "python3"
  },
  "language_info": {
   "codemirror_mode": {
    "name": "ipython",
    "version": 3
   },
   "file_extension": ".py",
   "mimetype": "text/x-python",
   "name": "python",
   "nbconvert_exporter": "python",
   "pygments_lexer": "ipython3",
   "version": "3.5.2"
  }
 },
 "nbformat": 4,
 "nbformat_minor": 1
}
